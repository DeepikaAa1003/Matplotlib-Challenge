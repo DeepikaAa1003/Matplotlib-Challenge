{
 "cells": [
  {
   "cell_type": "markdown",
   "metadata": {},
   "source": [
    "## Observations and Insights "
   ]
  },
  {
   "cell_type": "markdown",
   "metadata": {},
   "source": [
    "#1) Mouse weight and tumor volume is positively correlated to each other. The mouse having high weight have large tumor\n",
    "#2) Capomulin drug is one of the best performing drug. The tumor reduced significantly for the mouse in 45 days timepoint\n",
    "#3) Number of male mice used for study is slightly higher than number of female mice used\n",
    "#4) As per study results, Capomulin and Ramicane drug looks to be best performing drug to treat tumor"
   ]
  },
  {
   "cell_type": "code",
   "execution_count": 1,
   "metadata": {},
   "outputs": [],
   "source": [
    "# Dependencies and Setup\n",
    "import matplotlib.pyplot as plt\n",
    "import pandas as pd\n",
    "import scipy.stats as st\n",
    "import numpy as np\n",
    "import sklearn.datasets as dta\n",
    "\n",
    "\n",
    "# Study data files\n",
    "mouse_metadata_path = \"data/Mouse_metadata.csv\"\n",
    "study_results_path = \"data/Study_results.csv\"\n",
    "\n",
    "# Read the mouse data and the study results\n",
    "mouse_metadata = pd.read_csv(mouse_metadata_path)\n",
    "study_results = pd.read_csv(study_results_path)\n",
    "\n",
    "\n"
   ]
  },
  {
   "cell_type": "code",
   "execution_count": 2,
   "metadata": {},
   "outputs": [
    {
     "data": {
      "text/plain": [
       "249"
      ]
     },
     "execution_count": 2,
     "metadata": {},
     "output_type": "execute_result"
    }
   ],
   "source": [
    "# Checking the number of mice in the DataFrame.\n",
    "mouse_metadata[\"Mouse ID\"].count()"
   ]
  },
  {
   "cell_type": "code",
   "execution_count": 3,
   "metadata": {},
   "outputs": [
    {
     "data": {
      "text/plain": [
       "g989    13\n",
       "i738    10\n",
       "l509    10\n",
       "v991    10\n",
       "u364    10\n",
       "Name: Mouse ID, dtype: int64"
      ]
     },
     "execution_count": 3,
     "metadata": {},
     "output_type": "execute_result"
    }
   ],
   "source": [
    "# Getting the duplicate mice by ID number that shows up for Mouse ID and Timepoint. \n",
    "\n",
    "study_results['Mouse ID'].value_counts().head()"
   ]
  },
  {
   "cell_type": "code",
   "execution_count": 4,
   "metadata": {},
   "outputs": [
    {
     "data": {
      "text/html": [
       "<div>\n",
       "<style scoped>\n",
       "    .dataframe tbody tr th:only-of-type {\n",
       "        vertical-align: middle;\n",
       "    }\n",
       "\n",
       "    .dataframe tbody tr th {\n",
       "        vertical-align: top;\n",
       "    }\n",
       "\n",
       "    .dataframe thead th {\n",
       "        text-align: right;\n",
       "    }\n",
       "</style>\n",
       "<table border=\"1\" class=\"dataframe\">\n",
       "  <thead>\n",
       "    <tr style=\"text-align: right;\">\n",
       "      <th></th>\n",
       "      <th>Timepoint</th>\n",
       "      <th>Tumor Volume (mm3)</th>\n",
       "      <th>Metastatic Sites</th>\n",
       "    </tr>\n",
       "    <tr>\n",
       "      <th>Mouse ID</th>\n",
       "      <th></th>\n",
       "      <th></th>\n",
       "      <th></th>\n",
       "    </tr>\n",
       "  </thead>\n",
       "  <tbody>\n",
       "    <tr>\n",
       "      <th>g989</th>\n",
       "      <td>0</td>\n",
       "      <td>45.000000</td>\n",
       "      <td>0</td>\n",
       "    </tr>\n",
       "    <tr>\n",
       "      <th>g989</th>\n",
       "      <td>0</td>\n",
       "      <td>45.000000</td>\n",
       "      <td>0</td>\n",
       "    </tr>\n",
       "    <tr>\n",
       "      <th>g989</th>\n",
       "      <td>5</td>\n",
       "      <td>48.786801</td>\n",
       "      <td>0</td>\n",
       "    </tr>\n",
       "    <tr>\n",
       "      <th>g989</th>\n",
       "      <td>5</td>\n",
       "      <td>47.570392</td>\n",
       "      <td>0</td>\n",
       "    </tr>\n",
       "    <tr>\n",
       "      <th>g989</th>\n",
       "      <td>10</td>\n",
       "      <td>51.745156</td>\n",
       "      <td>0</td>\n",
       "    </tr>\n",
       "  </tbody>\n",
       "</table>\n",
       "</div>"
      ],
      "text/plain": [
       "          Timepoint  Tumor Volume (mm3)  Metastatic Sites\n",
       "Mouse ID                                                 \n",
       "g989              0           45.000000                 0\n",
       "g989              0           45.000000                 0\n",
       "g989              5           48.786801                 0\n",
       "g989              5           47.570392                 0\n",
       "g989             10           51.745156                 0"
      ]
     },
     "execution_count": 4,
     "metadata": {},
     "output_type": "execute_result"
    }
   ],
   "source": [
    "# Mouse ID g989 has duplicate rows. Removing g989 rows from the data frame.\n",
    "study_results = study_results.set_index(\"Mouse ID\")\n",
    "# Optional: Get all the data for the duplicate mouse ID. \n",
    "study_results_droppedIndexData = study_results.loc['g989', :]\n",
    "study_results_droppedIndexData.head()"
   ]
  },
  {
   "cell_type": "code",
   "execution_count": 5,
   "metadata": {},
   "outputs": [],
   "source": [
    "# Create a clean DataFrame by dropping the duplicate mouse by its ID.\n",
    "study_results = study_results.drop(index = \"g989\")"
   ]
  },
  {
   "cell_type": "code",
   "execution_count": 6,
   "metadata": {},
   "outputs": [
    {
     "data": {
      "text/plain": [
       "i738    10\n",
       "l509    10\n",
       "c832    10\n",
       "v991    10\n",
       "u364    10\n",
       "Name: Mouse ID, dtype: int64"
      ]
     },
     "execution_count": 6,
     "metadata": {},
     "output_type": "execute_result"
    }
   ],
   "source": [
    "# Checking the number of mice in the clean DataFrame.\n",
    "study_results = study_results.reset_index()\n",
    "study_results['Mouse ID'].value_counts().head()"
   ]
  },
  {
   "cell_type": "code",
   "execution_count": 7,
   "metadata": {},
   "outputs": [
    {
     "data": {
      "text/html": [
       "<div>\n",
       "<style scoped>\n",
       "    .dataframe tbody tr th:only-of-type {\n",
       "        vertical-align: middle;\n",
       "    }\n",
       "\n",
       "    .dataframe tbody tr th {\n",
       "        vertical-align: top;\n",
       "    }\n",
       "\n",
       "    .dataframe thead th {\n",
       "        text-align: right;\n",
       "    }\n",
       "</style>\n",
       "<table border=\"1\" class=\"dataframe\">\n",
       "  <thead>\n",
       "    <tr style=\"text-align: right;\">\n",
       "      <th></th>\n",
       "      <th>Mouse ID</th>\n",
       "      <th>Drug Regimen</th>\n",
       "      <th>Sex</th>\n",
       "      <th>Age_months</th>\n",
       "      <th>Weight (g)</th>\n",
       "      <th>Timepoint</th>\n",
       "      <th>Tumor Volume (mm3)</th>\n",
       "      <th>Metastatic Sites</th>\n",
       "    </tr>\n",
       "  </thead>\n",
       "  <tbody>\n",
       "    <tr>\n",
       "      <th>0</th>\n",
       "      <td>k403</td>\n",
       "      <td>Ramicane</td>\n",
       "      <td>Male</td>\n",
       "      <td>21</td>\n",
       "      <td>16</td>\n",
       "      <td>0</td>\n",
       "      <td>45.000000</td>\n",
       "      <td>0</td>\n",
       "    </tr>\n",
       "    <tr>\n",
       "      <th>1</th>\n",
       "      <td>k403</td>\n",
       "      <td>Ramicane</td>\n",
       "      <td>Male</td>\n",
       "      <td>21</td>\n",
       "      <td>16</td>\n",
       "      <td>5</td>\n",
       "      <td>38.825898</td>\n",
       "      <td>0</td>\n",
       "    </tr>\n",
       "    <tr>\n",
       "      <th>2</th>\n",
       "      <td>k403</td>\n",
       "      <td>Ramicane</td>\n",
       "      <td>Male</td>\n",
       "      <td>21</td>\n",
       "      <td>16</td>\n",
       "      <td>10</td>\n",
       "      <td>35.014271</td>\n",
       "      <td>1</td>\n",
       "    </tr>\n",
       "    <tr>\n",
       "      <th>3</th>\n",
       "      <td>k403</td>\n",
       "      <td>Ramicane</td>\n",
       "      <td>Male</td>\n",
       "      <td>21</td>\n",
       "      <td>16</td>\n",
       "      <td>15</td>\n",
       "      <td>34.223992</td>\n",
       "      <td>1</td>\n",
       "    </tr>\n",
       "    <tr>\n",
       "      <th>4</th>\n",
       "      <td>k403</td>\n",
       "      <td>Ramicane</td>\n",
       "      <td>Male</td>\n",
       "      <td>21</td>\n",
       "      <td>16</td>\n",
       "      <td>20</td>\n",
       "      <td>32.997729</td>\n",
       "      <td>1</td>\n",
       "    </tr>\n",
       "    <tr>\n",
       "      <th>5</th>\n",
       "      <td>k403</td>\n",
       "      <td>Ramicane</td>\n",
       "      <td>Male</td>\n",
       "      <td>21</td>\n",
       "      <td>16</td>\n",
       "      <td>25</td>\n",
       "      <td>33.464577</td>\n",
       "      <td>1</td>\n",
       "    </tr>\n",
       "    <tr>\n",
       "      <th>6</th>\n",
       "      <td>k403</td>\n",
       "      <td>Ramicane</td>\n",
       "      <td>Male</td>\n",
       "      <td>21</td>\n",
       "      <td>16</td>\n",
       "      <td>30</td>\n",
       "      <td>31.099498</td>\n",
       "      <td>1</td>\n",
       "    </tr>\n",
       "    <tr>\n",
       "      <th>7</th>\n",
       "      <td>k403</td>\n",
       "      <td>Ramicane</td>\n",
       "      <td>Male</td>\n",
       "      <td>21</td>\n",
       "      <td>16</td>\n",
       "      <td>35</td>\n",
       "      <td>26.546993</td>\n",
       "      <td>1</td>\n",
       "    </tr>\n",
       "    <tr>\n",
       "      <th>8</th>\n",
       "      <td>k403</td>\n",
       "      <td>Ramicane</td>\n",
       "      <td>Male</td>\n",
       "      <td>21</td>\n",
       "      <td>16</td>\n",
       "      <td>40</td>\n",
       "      <td>24.365505</td>\n",
       "      <td>1</td>\n",
       "    </tr>\n",
       "    <tr>\n",
       "      <th>9</th>\n",
       "      <td>k403</td>\n",
       "      <td>Ramicane</td>\n",
       "      <td>Male</td>\n",
       "      <td>21</td>\n",
       "      <td>16</td>\n",
       "      <td>45</td>\n",
       "      <td>22.050126</td>\n",
       "      <td>1</td>\n",
       "    </tr>\n",
       "  </tbody>\n",
       "</table>\n",
       "</div>"
      ],
      "text/plain": [
       "  Mouse ID Drug Regimen   Sex  Age_months  Weight (g)  Timepoint  \\\n",
       "0     k403     Ramicane  Male          21          16          0   \n",
       "1     k403     Ramicane  Male          21          16          5   \n",
       "2     k403     Ramicane  Male          21          16         10   \n",
       "3     k403     Ramicane  Male          21          16         15   \n",
       "4     k403     Ramicane  Male          21          16         20   \n",
       "5     k403     Ramicane  Male          21          16         25   \n",
       "6     k403     Ramicane  Male          21          16         30   \n",
       "7     k403     Ramicane  Male          21          16         35   \n",
       "8     k403     Ramicane  Male          21          16         40   \n",
       "9     k403     Ramicane  Male          21          16         45   \n",
       "\n",
       "   Tumor Volume (mm3)  Metastatic Sites  \n",
       "0           45.000000                 0  \n",
       "1           38.825898                 0  \n",
       "2           35.014271                 1  \n",
       "3           34.223992                 1  \n",
       "4           32.997729                 1  \n",
       "5           33.464577                 1  \n",
       "6           31.099498                 1  \n",
       "7           26.546993                 1  \n",
       "8           24.365505                 1  \n",
       "9           22.050126                 1  "
      ]
     },
     "execution_count": 7,
     "metadata": {},
     "output_type": "execute_result"
    }
   ],
   "source": [
    "# Combine the data into a single dataset\n",
    "combined_mice_study_results = pd.merge(mouse_metadata, study_results, on=\"Mouse ID\")\n",
    "combined_mice_study_results.head(10)"
   ]
  },
  {
   "cell_type": "markdown",
   "metadata": {},
   "source": [
    "## Summary Statistics"
   ]
  },
  {
   "cell_type": "code",
   "execution_count": 8,
   "metadata": {},
   "outputs": [
    {
     "data": {
      "text/html": [
       "<div>\n",
       "<style scoped>\n",
       "    .dataframe tbody tr th:only-of-type {\n",
       "        vertical-align: middle;\n",
       "    }\n",
       "\n",
       "    .dataframe tbody tr th {\n",
       "        vertical-align: top;\n",
       "    }\n",
       "\n",
       "    .dataframe thead th {\n",
       "        text-align: right;\n",
       "    }\n",
       "</style>\n",
       "<table border=\"1\" class=\"dataframe\">\n",
       "  <thead>\n",
       "    <tr style=\"text-align: right;\">\n",
       "      <th></th>\n",
       "      <th>Mean</th>\n",
       "      <th>median</th>\n",
       "      <th>Variance</th>\n",
       "      <th>Standard Deviation</th>\n",
       "      <th>SEM</th>\n",
       "    </tr>\n",
       "    <tr>\n",
       "      <th>Drug Regimen</th>\n",
       "      <th></th>\n",
       "      <th></th>\n",
       "      <th></th>\n",
       "      <th></th>\n",
       "      <th></th>\n",
       "    </tr>\n",
       "  </thead>\n",
       "  <tbody>\n",
       "    <tr>\n",
       "      <th>Capomulin</th>\n",
       "      <td>40.675741</td>\n",
       "      <td>41.557809</td>\n",
       "      <td>24.947764</td>\n",
       "      <td>4.994774</td>\n",
       "      <td>0.329346</td>\n",
       "    </tr>\n",
       "    <tr>\n",
       "      <th>Ceftamin</th>\n",
       "      <td>52.591172</td>\n",
       "      <td>51.776157</td>\n",
       "      <td>39.290177</td>\n",
       "      <td>6.268188</td>\n",
       "      <td>0.469821</td>\n",
       "    </tr>\n",
       "    <tr>\n",
       "      <th>Infubinol</th>\n",
       "      <td>52.884795</td>\n",
       "      <td>51.820584</td>\n",
       "      <td>43.128684</td>\n",
       "      <td>6.567243</td>\n",
       "      <td>0.492236</td>\n",
       "    </tr>\n",
       "    <tr>\n",
       "      <th>Ketapril</th>\n",
       "      <td>55.235638</td>\n",
       "      <td>53.698743</td>\n",
       "      <td>68.553577</td>\n",
       "      <td>8.279709</td>\n",
       "      <td>0.603860</td>\n",
       "    </tr>\n",
       "    <tr>\n",
       "      <th>Naftisol</th>\n",
       "      <td>54.331565</td>\n",
       "      <td>52.509285</td>\n",
       "      <td>66.173479</td>\n",
       "      <td>8.134708</td>\n",
       "      <td>0.596466</td>\n",
       "    </tr>\n",
       "    <tr>\n",
       "      <th>Placebo</th>\n",
       "      <td>54.033581</td>\n",
       "      <td>52.288934</td>\n",
       "      <td>61.168083</td>\n",
       "      <td>7.821003</td>\n",
       "      <td>0.581331</td>\n",
       "    </tr>\n",
       "    <tr>\n",
       "      <th>Propriva</th>\n",
       "      <td>52.320930</td>\n",
       "      <td>50.446266</td>\n",
       "      <td>43.852013</td>\n",
       "      <td>6.622085</td>\n",
       "      <td>0.544332</td>\n",
       "    </tr>\n",
       "    <tr>\n",
       "      <th>Ramicane</th>\n",
       "      <td>40.216745</td>\n",
       "      <td>40.673236</td>\n",
       "      <td>23.486704</td>\n",
       "      <td>4.846308</td>\n",
       "      <td>0.320955</td>\n",
       "    </tr>\n",
       "    <tr>\n",
       "      <th>Stelasyn</th>\n",
       "      <td>54.233149</td>\n",
       "      <td>52.431737</td>\n",
       "      <td>59.450562</td>\n",
       "      <td>7.710419</td>\n",
       "      <td>0.573111</td>\n",
       "    </tr>\n",
       "    <tr>\n",
       "      <th>Zoniferol</th>\n",
       "      <td>53.236507</td>\n",
       "      <td>51.818479</td>\n",
       "      <td>48.533355</td>\n",
       "      <td>6.966589</td>\n",
       "      <td>0.516398</td>\n",
       "    </tr>\n",
       "  </tbody>\n",
       "</table>\n",
       "</div>"
      ],
      "text/plain": [
       "                   Mean     median   Variance  Standard Deviation       SEM\n",
       "Drug Regimen                                                               \n",
       "Capomulin     40.675741  41.557809  24.947764            4.994774  0.329346\n",
       "Ceftamin      52.591172  51.776157  39.290177            6.268188  0.469821\n",
       "Infubinol     52.884795  51.820584  43.128684            6.567243  0.492236\n",
       "Ketapril      55.235638  53.698743  68.553577            8.279709  0.603860\n",
       "Naftisol      54.331565  52.509285  66.173479            8.134708  0.596466\n",
       "Placebo       54.033581  52.288934  61.168083            7.821003  0.581331\n",
       "Propriva      52.320930  50.446266  43.852013            6.622085  0.544332\n",
       "Ramicane      40.216745  40.673236  23.486704            4.846308  0.320955\n",
       "Stelasyn      54.233149  52.431737  59.450562            7.710419  0.573111\n",
       "Zoniferol     53.236507  51.818479  48.533355            6.966589  0.516398"
      ]
     },
     "execution_count": 8,
     "metadata": {},
     "output_type": "execute_result"
    }
   ],
   "source": [
    "# Generate a summary statistics table of mean, median, variance, standard deviation, and SEM of the tumor volume for each regimen\n",
    "\n",
    "# This method produces everything in a single groupby function.\n",
    "\n",
    "mice_grouped = combined_mice_study_results.groupby(\"Drug Regimen\")\n",
    "mice_statistics_table = mice_grouped[\"Tumor Volume (mm3)\"].agg(['mean', 'median', 'var', 'std', 'sem'])\n",
    "\n",
    "mice_statistics_table = mice_statistics_table.rename(columns={\"mean\":\"Mean\",\n",
    "                                                              \"Median\":\"Median\",\n",
    "                                                              \"var\":\"Variance\",\n",
    "                                                              \"std\" : \"Standard Deviation\",\n",
    "                                                              \"sem\" : \"SEM\"})\n",
    "\n",
    "mice_statistics_table"
   ]
  },
  {
   "cell_type": "code",
   "execution_count": 9,
   "metadata": {},
   "outputs": [],
   "source": [
    "mice_grouped_timepoint =mice_grouped[\"Timepoint\"].value_counts() # to get mice count for each timepoint grouped by drug name\n"
   ]
  },
  {
   "cell_type": "markdown",
   "metadata": {},
   "source": [
    "## Bar Plots"
   ]
  },
  {
   "cell_type": "code",
   "execution_count": 10,
   "metadata": {
    "scrolled": true
   },
   "outputs": [
    {
     "data": {
      "image/png": "[encoded data removed]",
      "text/plain": [
       "<Figure size 720x504 with 1 Axes>"
      ]
     },
     "metadata": {
      "needs_background": "light"
     },
     "output_type": "display_data"
    }
   ],
   "source": [
    "# Generate a bar plot showing the number of mice per time point for each treatment throughout the course of the study using pandas.\n",
    "# Generate a stacked bar plot to stack mice count for each timepoint for 1 drug regimen on top of each other\n",
    "\n",
    "Mice_counts_PerTimepoint_chart = mice_grouped_timepoint.unstack().plot(kind='bar',stacked=True, figsize=(10,7) )\n",
    "\n",
    "Mice_counts_PerTimepoint_chart.set_xlabel(\"Drug Regimen\")\n",
    "Mice_counts_PerTimepoint_chart.set_ylabel(\"Number of Mice per Timepoint\")\n",
    "plt.legend(loc='upper center', bbox_to_anchor=(0.5, 1.05),\n",
    "          ncol=3, fancybox=True, shadow=True)\n",
    "plt.show()"
   ]
  },
  {
   "cell_type": "code",
   "execution_count": 11,
   "metadata": {},
   "outputs": [],
   "source": [
    "Unique_drugRegimen_values = combined_mice_study_results[\"Drug Regimen\"].unique() # Unique list of drug names for x axis ticks\n",
    "Unique_drugRegimen_values = sorted(Unique_drugRegimen_values)\n",
    "Unique_Timepoint_values = combined_mice_study_results[\"Timepoint\"].unique() # Unique list of timepoint used for looping and creating each bar list\n",
    "mice_grouped_timepoint = combined_mice_study_results.groupby([\"Timepoint\"])\n",
    "\n",
    "# to get mice count for each timepoint grouped by sorted drug name\n",
    "mice_grouped_drug_regimen =mice_grouped_timepoint[\"Drug Regimen\"].value_counts().sort_index().to_list() \n",
    "\n"
   ]
  },
  {
   "cell_type": "code",
   "execution_count": 12,
   "metadata": {},
   "outputs": [],
   "source": [
    "# Logic to create a mice count list for timpoint 0 for all drug regimen. Add that micecount_pertimepoint_list to combined_micecount_list\n",
    "# similarly creating a mice count list for timepoint 5 and so on\n",
    "# combined_micecount_list will have 10 lists at the end- one for each timepoint\n",
    "\n",
    "counter = 0\n",
    "combined_micecount_list = []\n",
    "x_axis = np.arange(len(Unique_drugRegimen_values))\n",
    "\n",
    "for i in range(len(Unique_drugRegimen_values)): # loop 10 times for each drug\n",
    "    micecount_pertimepoint_list = []\n",
    "    for j in range(len(Unique_Timepoint_values)): # Inner loop 10 times for each timepoint of that drug\n",
    "        \n",
    "        #print(\"Value = \" + str(mice_grouped_drug_regimen[counter]) + \"counter = \" + str(counter))\n",
    "        micecount_pertimepoint_list.append(mice_grouped_drug_regimen[counter])\n",
    "        counter = counter + 1\n",
    "    \n",
    "    combined_micecount_list.append(micecount_pertimepoint_list)\n",
    "\n"
   ]
  },
  {
   "cell_type": "code",
   "execution_count": 13,
   "metadata": {},
   "outputs": [
    {
     "data": {
      "image/png": "[encoded data removed]",
      "text/plain": [
       "<Figure size 720x504 with 1 Axes>"
      ]
     },
     "metadata": {
      "needs_background": "light"
     },
     "output_type": "display_data"
    }
   ],
   "source": [
    "# Generate a bar plot showing the number of mice per time point for each treatment throughout the course of the study using pyplot.\n",
    "\n",
    "\n",
    "data = np.array(combined_micecount_list)\n",
    "\n",
    "color_list = ['C0', 'C1', 'C2', 'C3', 'C4', 'C5', 'C6', 'C7', 'C8', 'C9', 'C10'] # colors to use for each timepoint bar \n",
    "fig = plt.gcf()\n",
    "fig.set_size_inches(10, 7)\n",
    "width = 0.4\n",
    "\n",
    "\n",
    "\n",
    "X = np.arange(data.shape[1])\n",
    "for i in range(data.shape[0]):  #loop for each timepoint to create stacked bar plot\n",
    "  plt.bar(X, data[i],width, bottom = np.sum(data[:i], axis = 0), color = color_list[i % len(color_list)])\n",
    "\n",
    "plt.xlabel('Drug Regimen', fontsize=12)\n",
    "plt.ylabel('Number of Mice per Timepoint', fontsize=12)\n",
    "plt.xticks(X, Unique_drugRegimen_values,rotation=90)\n",
    "plt.legend(Unique_Timepoint_values,loc='upper center', bbox_to_anchor=(0.5, 1.05),\n",
    "          ncol=3, fancybox=True, shadow=True)\n",
    "\n",
    "plt.show()"
   ]
  },
  {
   "cell_type": "markdown",
   "metadata": {},
   "source": [
    "# Pie Plots"
   ]
  },
  {
   "cell_type": "code",
   "execution_count": 14,
   "metadata": {},
   "outputs": [],
   "source": [
    "# Get rows of timepoint 0 for each drug\n",
    "\n",
    "filtered = combined_mice_study_results.loc[(combined_mice_study_results[\"Timepoint\"] == 0)] \n",
    "mice_grouped_sex_count = filtered[\"Sex\"].value_counts() # calculate female and male mice count"
   ]
  },
  {
   "cell_type": "code",
   "execution_count": 15,
   "metadata": {
    "scrolled": true
   },
   "outputs": [
    {
     "data": {
      "image/png": "[encoded data removed]",
      "text/plain": [
       "<Figure size 432x288 with 1 Axes>"
      ]
     },
     "metadata": {},
     "output_type": "display_data"
    }
   ],
   "source": [
    "# Generate a pie plot showing the distribution of female versus male mice using pandas\n",
    "colors = [\"red\", \"orange\"]\n",
    "mice_grouped_sex_count.plot(kind='pie', subplots=True, colors = colors, autopct=\"%.2f%%\", startangle=140)\n",
    "plt.axis('equal')\n",
    "plt.xlabel(\"Mice count by Gender\")\n",
    "plt.ylabel(\"\")\n",
    "plt.show()"
   ]
  },
  {
   "cell_type": "code",
   "execution_count": 16,
   "metadata": {},
   "outputs": [],
   "source": [
    "Unique_micesex_values = combined_mice_study_results[\"Sex\"].unique()"
   ]
  },
  {
   "cell_type": "code",
   "execution_count": 17,
   "metadata": {},
   "outputs": [
    {
     "data": {
      "image/png": "[encoded data removed]",
      "text/plain": [
       "<Figure size 432x288 with 1 Axes>"
      ]
     },
     "metadata": {},
     "output_type": "display_data"
    }
   ],
   "source": [
    "# Generate a pie plot showing the distribution of female versus male mice using pyplot\n",
    "\n",
    "labels = Unique_micesex_values\n",
    "sizes = mice_grouped_sex_count\n",
    "colors = [\"red\", \"orange\"]\n",
    "plt.pie(sizes, labels=labels, colors=colors, autopct=\"%.2f%%\", startangle=140)\n",
    "plt.axis(\"equal\")\n",
    "plt.xlabel(\"Mice count by Gender\")\n",
    "plt.ylabel(\"\")\n",
    "plt.legend()\n",
    "plt.show()"
   ]
  },
  {
   "cell_type": "markdown",
   "metadata": {},
   "source": [
    "## Quartiles, Outliers and Boxplots"
   ]
  },
  {
   "cell_type": "code",
   "execution_count": 18,
   "metadata": {},
   "outputs": [],
   "source": [
    "# Calculate final tumor volume of each mouse for drug Capomulin\n",
    "\n",
    "# get all rows of drug \"Capomulin\"\n",
    "Capomulin_filtered_df = combined_mice_study_results.loc[(combined_mice_study_results[\"Drug Regimen\"] == \"Capomulin\")]\n",
    "\n",
    "# get sorted unique mouse id for drug capomulin\n",
    "Capomulin_Micecount = Capomulin_filtered_df[\"Mouse ID\"].unique()\n",
    "Capomulin_Micecount = sorted(Capomulin_Micecount)\n",
    "\n",
    "Capomulin_filtered_df = Capomulin_filtered_df[[\"Mouse ID\", \"Tumor Volume (mm3)\", \"Timepoint\"]]\n",
    "\n",
    "# group the rows of drug \"Capomulin\" by MouseID and then get last timepoint for each Mouse\n",
    "Capomulin_filtered_df_grouped = Capomulin_filtered_df.groupby(\"Mouse ID\")\n",
    "TimepointMaxList = Capomulin_filtered_df_grouped[\"Timepoint\"].max().sort_index().to_list() # get maximum timepoint value for each mouse ID\n",
    "Capomulin_tumorVol_list = []\n",
    "\n",
    "# add the final tumor volumne of last timepoint for each mouse in a list\n",
    "\n",
    "for x in range(len(Capomulin_Micecount)):\n",
    "    Capomulin_Mice_df = Capomulin_filtered_df.loc[(Capomulin_filtered_df[\"Timepoint\"] == TimepointMaxList[x]) & (Capomulin_filtered_df[\"Mouse ID\"] == Capomulin_Micecount[x])]\n",
    "    tumorvolume = round(float(Capomulin_Mice_df[\"Tumor Volume (mm3)\"]),2)\n",
    "    Capomulin_tumorVol_list.append(tumorvolume)\n",
    "Capomulin_tumorVol_list.sort()\n",
    "Capomulin_tumorVol_df = pd.DataFrame(Capomulin_tumorVol_list, columns=['TumorVol'] )"
   ]
  },
  {
   "cell_type": "code",
   "execution_count": 19,
   "metadata": {},
   "outputs": [],
   "source": [
    "# Calculate final tumor volume of each mouse for drug Ramicane\n",
    "\n",
    "# get all rows of drug \"Ramicane\"\n",
    "Ramicane_filtered_df = combined_mice_study_results.loc[(combined_mice_study_results[\"Drug Regimen\"] == \"Ramicane\")]\n",
    "\n",
    "# get sorted unique mouse id for drug Ramicane\n",
    "Ramicane_Micecount = Ramicane_filtered_df[\"Mouse ID\"].unique()\n",
    "Ramicane_Micecount = sorted(Ramicane_Micecount)\n",
    "\n",
    "Ramicane_filtered_df = Ramicane_filtered_df[[\"Mouse ID\", \"Tumor Volume (mm3)\", \"Timepoint\"]]\n",
    "\n",
    "Ramicane_filtered_df_grouped = Ramicane_filtered_df.groupby(\"Mouse ID\")\n",
    "TimepointMaxList = Ramicane_filtered_df_grouped[\"Timepoint\"].max().sort_index().to_list() # get maximum timepoint value for each mouse ID\n",
    "Ramicane_tumorVol_list = []\n",
    "\n",
    "# add the final tumor volumne of last timepoint for each mouse in a list\n",
    "\n",
    "for x in range(len(Ramicane_Micecount)):\n",
    "    Ramicane_Mice_df = Ramicane_filtered_df.loc[(Ramicane_filtered_df[\"Timepoint\"] == TimepointMaxList[x]) & (Ramicane_filtered_df[\"Mouse ID\"] == Ramicane_Micecount[x])]\n",
    "    tumorvolume = round(float(Ramicane_Mice_df[\"Tumor Volume (mm3)\"]),5)\n",
    "    Ramicane_tumorVol_list.append(tumorvolume)\n",
    "Ramicane_tumorVol_list.sort()\n",
    "Ramicane_tumorVol_df = pd.DataFrame(Ramicane_tumorVol_list, columns=['TumorVol'] )"
   ]
  },
  {
   "cell_type": "code",
   "execution_count": 20,
   "metadata": {},
   "outputs": [],
   "source": [
    "# Calculate final tumor volume of each mouse for drug Infubinol\n",
    "\n",
    "# get all rows of drug \"Infubinol\"\n",
    "Infubinol_filtered_df = combined_mice_study_results.loc[(combined_mice_study_results[\"Drug Regimen\"] == \"Infubinol\")]\n",
    "\n",
    "# get sorted unique mouse id for drug Infubinol\n",
    "Infubinol_Micecount = Infubinol_filtered_df[\"Mouse ID\"].unique()\n",
    "Infubinol_Micecount = sorted(Infubinol_Micecount)\n",
    "\n",
    "Infubinol_filtered_df = Infubinol_filtered_df[[\"Mouse ID\", \"Tumor Volume (mm3)\", \"Timepoint\"]]\n",
    "\n",
    "Infubinol_filtered_df_grouped = Infubinol_filtered_df.groupby(\"Mouse ID\")\n",
    "TimepointMaxList = Infubinol_filtered_df_grouped[\"Timepoint\"].max().sort_index().to_list() # get maximum timepoint value for each mouse ID\n",
    "Infubinol_tumorVol_list = []\n",
    "\n",
    "# add the final tumor volumne of last timepoint for each mouse in a list\n",
    "\n",
    "for x in range(len(Infubinol_Micecount)):\n",
    "    Infubinol_Mice_df = Infubinol_filtered_df.loc[(Infubinol_filtered_df[\"Timepoint\"] == TimepointMaxList[x]) & (Infubinol_filtered_df[\"Mouse ID\"] == Infubinol_Micecount[x])]\n",
    "    tumorvolume = round(float(Infubinol_Mice_df[\"Tumor Volume (mm3)\"]),5)\n",
    "    Infubinol_tumorVol_list.append(tumorvolume)\n",
    "Infubinol_tumorVol_list.sort()\n",
    "Infubinol_tumorVol_df = pd.DataFrame(Infubinol_tumorVol_list, columns=['TumorVol'] )"
   ]
  },
  {
   "cell_type": "code",
   "execution_count": 21,
   "metadata": {},
   "outputs": [],
   "source": [
    "# Calculate final tumor volume of each mouse for drug Ceftamin\n",
    "\n",
    "# get all rows of drug \"Ceftamin\"\n",
    "Ceftamin_filtered_df = combined_mice_study_results.loc[(combined_mice_study_results[\"Drug Regimen\"] == \"Ceftamin\")]\n",
    "\n",
    "# get sorted unique mouse id for drug Infubinol\n",
    "Ceftamin_Micecount = Ceftamin_filtered_df[\"Mouse ID\"].unique()\n",
    "Ceftamin_Micecount = sorted(Ceftamin_Micecount)\n",
    "\n",
    "Ceftamin_filtered_df = Ceftamin_filtered_df[[\"Mouse ID\", \"Tumor Volume (mm3)\", \"Timepoint\"]]\n",
    "\n",
    "Ceftamin_filtered_df_grouped = Ceftamin_filtered_df.groupby(\"Mouse ID\")\n",
    "TimepointMaxList = Ceftamin_filtered_df_grouped[\"Timepoint\"].max().sort_index().to_list() # get maximum timepoint value for each mouse ID\n",
    "Ceftamin_tumorVol_list = []\n",
    "\n",
    "for x in range(len(Ceftamin_Micecount)):\n",
    "    Ceftamin_Mice_df = Ceftamin_filtered_df.loc[(Ceftamin_filtered_df[\"Timepoint\"] == TimepointMaxList[x]) & (Ceftamin_filtered_df[\"Mouse ID\"] == Ceftamin_Micecount[x])]\n",
    "    tumorvolume = round(float(Ceftamin_Mice_df[\"Tumor Volume (mm3)\"]),5)\n",
    "    Ceftamin_tumorVol_list.append(tumorvolume)\n",
    "Ceftamin_tumorVol_list.sort()\n",
    "Ceftamin_tumorVol_df = pd.DataFrame(Ceftamin_tumorVol_list, columns=['TumorVol'] )"
   ]
  },
  {
   "cell_type": "code",
   "execution_count": 22,
   "metadata": {},
   "outputs": [
    {
     "name": "stdout",
     "output_type": "stream",
     "text": [
      "The lower quartile of Capomulin final tumor volume is: 32.38\n",
      "The upper quartile of Capomulin final tumor volume is: 40.16\n",
      "The interquartile range of Capomulin final tumor volume is: 7.779999999999994\n",
      "The median of Capomulin tumor volume is: 38.13 \n",
      "Values below 20.71000000000001 could be outliers.\n",
      "Values above 51.829999999999984 could be outliers.\n",
      "There are no potential outliers for drug Capomulin\n"
     ]
    }
   ],
   "source": [
    "#Calculate the IQR and quantitatively determine if there are any potential outliers for drug \"Capomulin\"\n",
    "\n",
    "lowerq = float(Capomulin_tumorVol_df.quantile(0.25))\n",
    "upperq = float(Capomulin_tumorVol_df.quantile(0.75))\n",
    "median = float(Capomulin_tumorVol_df.quantile(0.5))\n",
    "iqr = upperq-lowerq\n",
    "\n",
    "print(f\"The lower quartile of Capomulin final tumor volume is: {lowerq}\")\n",
    "print(f\"The upper quartile of Capomulin final tumor volume is: {upperq}\")\n",
    "print(f\"The interquartile range of Capomulin final tumor volume is: {iqr}\")\n",
    "print(f\"The median of Capomulin tumor volume is: {median} \")\n",
    "\n",
    "lower_bound = lowerq - (1.5*iqr)\n",
    "upper_bound = upperq + (1.5*iqr)\n",
    "print(f\"Values below {lower_bound} could be outliers.\")\n",
    "print(f\"Values above {upper_bound} could be outliers.\")\n",
    "\n",
    "outlier_occupancy = Capomulin_tumorVol_df.loc[(Capomulin_tumorVol_df['TumorVol'] < lower_bound) | (Capomulin_tumorVol_df['TumorVol'] > upper_bound)]\n",
    "if len(outlier_occupancy) == 0:\n",
    "    print(\"There are no potential outliers for drug Capomulin\")\n",
    "else:\n",
    "    print(\"There are following potential outliers for drug Capomuin\")\n",
    "    print(outlier_occupancy[\"TumorVol\"])"
   ]
  },
  {
   "cell_type": "code",
   "execution_count": 23,
   "metadata": {},
   "outputs": [
    {
     "name": "stdout",
     "output_type": "stream",
     "text": [
      "The lower quartile of Ramicane final tumor volume is: 31.56047\n",
      "The upper quartile of Ramicane final tumor volume is: 40.65901\n",
      "The interquartile range of Ramicane final tumor volume is: 9.098540000000003\n",
      "The median of Ramicane tumor volume is: 36.56165 \n",
      "Values below 17.912659999999995 could be outliers.\n",
      "Values above 54.30682000000001 could be outliers.\n",
      "There are no potential outliers for drug Ramicane\n"
     ]
    }
   ],
   "source": [
    "#Calculate the IQR and quantitatively determine if there are any potential outliers for drug \"Ramicane\"\n",
    "\n",
    "lowerq = float(Ramicane_tumorVol_df.quantile(0.25))\n",
    "upperq = float(Ramicane_tumorVol_df.quantile(0.75))\n",
    "median = float(Ramicane_tumorVol_df.quantile(0.5))\n",
    "iqr = upperq-lowerq\n",
    "\n",
    "print(f\"The lower quartile of Ramicane final tumor volume is: {lowerq}\")\n",
    "print(f\"The upper quartile of Ramicane final tumor volume is: {upperq}\")\n",
    "print(f\"The interquartile range of Ramicane final tumor volume is: {iqr}\")\n",
    "print(f\"The median of Ramicane tumor volume is: {median} \")\n",
    "\n",
    "lower_bound = lowerq - (1.5*iqr)\n",
    "upper_bound = upperq + (1.5*iqr)\n",
    "print(f\"Values below {lower_bound} could be outliers.\")\n",
    "print(f\"Values above {upper_bound} could be outliers.\")\n",
    "\n",
    "outlier_occupancy = Ramicane_tumorVol_df.loc[(Ramicane_tumorVol_df['TumorVol'] < lower_bound) | (Ramicane_tumorVol_df['TumorVol'] > upper_bound)]\n",
    "if len(outlier_occupancy) == 0:\n",
    "    print(\"There are no potential outliers for drug Ramicane\")\n",
    "else:\n",
    "    print(\"There are following potential outliers for drug Ramicane\")\n",
    "    print(outlier_occupancy[\"TumorVol\"])"
   ]
  },
  {
   "cell_type": "code",
   "execution_count": 24,
   "metadata": {},
   "outputs": [
    {
     "name": "stdout",
     "output_type": "stream",
     "text": [
      "The lower quartile of Infubinol final tumor volume is: 54.04861\n",
      "The upper quartile of Infubinol final tumor volume is: 65.52574\n",
      "The interquartile range of Infubinol final tumor volume is: 11.477130000000002\n",
      "The median of Infubinol tumor volume is: 60.16518 \n",
      "Values below 36.83291499999999 could be outliers.\n",
      "Values above 82.741435 could be outliers.\n",
      "There are following potential outliers for drug Infubinol\n",
      "0    36.32135\n",
      "Name: TumorVol, dtype: float64\n"
     ]
    }
   ],
   "source": [
    "#Calculate the IQR and quantitatively determine if there are any potential outliers for drug \"Infubinol\"\n",
    "\n",
    "lowerq = float(Infubinol_tumorVol_df.quantile(0.25))\n",
    "upperq = float(Infubinol_tumorVol_df.quantile(0.75))\n",
    "median = float(Infubinol_tumorVol_df.quantile(0.5))\n",
    "iqr = upperq-lowerq\n",
    "\n",
    "print(f\"The lower quartile of Infubinol final tumor volume is: {lowerq}\")\n",
    "print(f\"The upper quartile of Infubinol final tumor volume is: {upperq}\")\n",
    "print(f\"The interquartile range of Infubinol final tumor volume is: {iqr}\")\n",
    "print(f\"The median of Infubinol tumor volume is: {median} \")\n",
    "\n",
    "lower_bound = lowerq - (1.5*iqr)\n",
    "upper_bound = upperq + (1.5*iqr)\n",
    "print(f\"Values below {lower_bound} could be outliers.\")\n",
    "print(f\"Values above {upper_bound} could be outliers.\")\n",
    "\n",
    "outlier_occupancy = Infubinol_tumorVol_df.loc[(Infubinol_tumorVol_df['TumorVol'] < lower_bound) | (Infubinol_tumorVol_df['TumorVol'] > upper_bound)]\n",
    "if len(outlier_occupancy) == 0:\n",
    "    print(\"There are no potential outliers for drug Infubinol\")\n",
    "else:\n",
    "    print(\"There are following potential outliers for drug Infubinol\")\n",
    "    print(outlier_occupancy[\"TumorVol\"])\n",
    "    "
   ]
  },
  {
   "cell_type": "code",
   "execution_count": 25,
   "metadata": {},
   "outputs": [
    {
     "name": "stdout",
     "output_type": "stream",
     "text": [
      "The lower quartile of Ceftamin final tumor volume is: 48.72208\n",
      "The upper quartile of Ceftamin final tumor volume is: 64.29983\n",
      "The interquartile range of Ceftamin final tumor volume is: 15.577750000000002\n",
      "The median of Ceftamin tumor volume is: 59.85196 \n",
      "Values below 25.355454999999996 could be outliers.\n",
      "Values above 87.666455 could be outliers.\n",
      "There are no potential outliers for drug Ceftamin\n"
     ]
    }
   ],
   "source": [
    "#Calculate the IQR and quantitatively determine if there are any potential outliers for drug \"Ceftamin\"\n",
    "\n",
    "lowerq = float(Ceftamin_tumorVol_df.quantile(0.25))\n",
    "upperq = float(Ceftamin_tumorVol_df.quantile(0.75))\n",
    "median = float(Ceftamin_tumorVol_df.quantile(0.5))\n",
    "iqr = upperq-lowerq\n",
    "\n",
    "print(f\"The lower quartile of Ceftamin final tumor volume is: {lowerq}\")\n",
    "print(f\"The upper quartile of Ceftamin final tumor volume is: {upperq}\")\n",
    "print(f\"The interquartile range of Ceftamin final tumor volume is: {iqr}\")\n",
    "print(f\"The median of Ceftamin tumor volume is: {median} \")\n",
    "\n",
    "lower_bound = lowerq - (1.5*iqr)\n",
    "upper_bound = upperq + (1.5*iqr)\n",
    "print(f\"Values below {lower_bound} could be outliers.\")\n",
    "print(f\"Values above {upper_bound} could be outliers.\")\n",
    "\n",
    "outlier_occupancy = Ceftamin_tumorVol_df.loc[(Ceftamin_tumorVol_df['TumorVol'] < lower_bound) | (Ceftamin_tumorVol_df['TumorVol'] > upper_bound)]\n",
    "if len(outlier_occupancy) == 0:\n",
    "    print(\"There are no potential outliers for drug Ceftamin\")\n",
    "else:\n",
    "    print(\"There are following potential outliers for drug Ceftamin\")\n",
    "    print(outlier_occupancy[\"TumorVol\"])\n"
   ]
  },
  {
   "cell_type": "code",
   "execution_count": 26,
   "metadata": {},
   "outputs": [
    {
     "data": {
      "image/png": "[encoded data removed]",
      "text/plain": [
       "<Figure size 1080x576 with 1 Axes>"
      ]
     },
     "metadata": {
      "needs_background": "light"
     },
     "output_type": "display_data"
    }
   ],
   "source": [
    "# Generate a box plot of the final tumor volume of each mouse across four regimens of interest\n",
    "\n",
    "data_to_plot = [Capomulin_tumorVol_list, Ramicane_tumorVol_list, Infubinol_tumorVol_list, Ceftamin_tumorVol_list] #combine data of 4 drug regimens\n",
    "\n",
    "fig1, ax1 = plt.subplots()\n",
    "ax1.set_title('Final Tumor Volume per mouse per drug')\n",
    "ax1.set_ylabel('Tumor Volume')\n",
    "red_square = dict(markerfacecolor='r', marker='s')\n",
    "ax1.boxplot(data_to_plot, vert=False, flierprops=red_square)\n",
    "plt.yticks([1, 2, 3,4], ['Capomulin', 'Ramicane', 'Infubinol', 'Ceftamin'])\n",
    "fig1.set_size_inches(15, 8)\n",
    "plt.show()"
   ]
  },
  {
   "cell_type": "markdown",
   "metadata": {},
   "source": [
    "## Line and Scatter Plots"
   ]
  },
  {
   "cell_type": "code",
   "execution_count": 27,
   "metadata": {},
   "outputs": [
    {
     "data": {
      "text/html": [
       "<div>\n",
       "<style scoped>\n",
       "    .dataframe tbody tr th:only-of-type {\n",
       "        vertical-align: middle;\n",
       "    }\n",
       "\n",
       "    .dataframe tbody tr th {\n",
       "        vertical-align: top;\n",
       "    }\n",
       "\n",
       "    .dataframe thead th {\n",
       "        text-align: right;\n",
       "    }\n",
       "</style>\n",
       "<table border=\"1\" class=\"dataframe\">\n",
       "  <thead>\n",
       "    <tr style=\"text-align: right;\">\n",
       "      <th></th>\n",
       "      <th>Drug Regimen</th>\n",
       "      <th>Mouse ID</th>\n",
       "      <th>Timepoint</th>\n",
       "      <th>Tumor Volume (mm3)</th>\n",
       "    </tr>\n",
       "  </thead>\n",
       "  <tbody>\n",
       "    <tr>\n",
       "      <th>10</th>\n",
       "      <td>Capomulin</td>\n",
       "      <td>s185</td>\n",
       "      <td>0</td>\n",
       "      <td>45.000000</td>\n",
       "    </tr>\n",
       "    <tr>\n",
       "      <th>11</th>\n",
       "      <td>Capomulin</td>\n",
       "      <td>s185</td>\n",
       "      <td>5</td>\n",
       "      <td>43.878496</td>\n",
       "    </tr>\n",
       "    <tr>\n",
       "      <th>12</th>\n",
       "      <td>Capomulin</td>\n",
       "      <td>s185</td>\n",
       "      <td>10</td>\n",
       "      <td>37.614948</td>\n",
       "    </tr>\n",
       "    <tr>\n",
       "      <th>13</th>\n",
       "      <td>Capomulin</td>\n",
       "      <td>s185</td>\n",
       "      <td>15</td>\n",
       "      <td>38.177232</td>\n",
       "    </tr>\n",
       "    <tr>\n",
       "      <th>14</th>\n",
       "      <td>Capomulin</td>\n",
       "      <td>s185</td>\n",
       "      <td>20</td>\n",
       "      <td>36.866876</td>\n",
       "    </tr>\n",
       "    <tr>\n",
       "      <th>15</th>\n",
       "      <td>Capomulin</td>\n",
       "      <td>s185</td>\n",
       "      <td>25</td>\n",
       "      <td>33.949940</td>\n",
       "    </tr>\n",
       "    <tr>\n",
       "      <th>16</th>\n",
       "      <td>Capomulin</td>\n",
       "      <td>s185</td>\n",
       "      <td>30</td>\n",
       "      <td>32.959671</td>\n",
       "    </tr>\n",
       "    <tr>\n",
       "      <th>17</th>\n",
       "      <td>Capomulin</td>\n",
       "      <td>s185</td>\n",
       "      <td>35</td>\n",
       "      <td>28.328531</td>\n",
       "    </tr>\n",
       "    <tr>\n",
       "      <th>18</th>\n",
       "      <td>Capomulin</td>\n",
       "      <td>s185</td>\n",
       "      <td>40</td>\n",
       "      <td>25.472143</td>\n",
       "    </tr>\n",
       "    <tr>\n",
       "      <th>19</th>\n",
       "      <td>Capomulin</td>\n",
       "      <td>s185</td>\n",
       "      <td>45</td>\n",
       "      <td>23.343598</td>\n",
       "    </tr>\n",
       "  </tbody>\n",
       "</table>\n",
       "</div>"
      ],
      "text/plain": [
       "   Drug Regimen Mouse ID  Timepoint  Tumor Volume (mm3)\n",
       "10    Capomulin     s185          0           45.000000\n",
       "11    Capomulin     s185          5           43.878496\n",
       "12    Capomulin     s185         10           37.614948\n",
       "13    Capomulin     s185         15           38.177232\n",
       "14    Capomulin     s185         20           36.866876\n",
       "15    Capomulin     s185         25           33.949940\n",
       "16    Capomulin     s185         30           32.959671\n",
       "17    Capomulin     s185         35           28.328531\n",
       "18    Capomulin     s185         40           25.472143\n",
       "19    Capomulin     s185         45           23.343598"
      ]
     },
     "execution_count": 27,
     "metadata": {},
     "output_type": "execute_result"
    }
   ],
   "source": [
    "# Get unique mouse ID for drug \"Capomulin\"\n",
    "Capomulin_uniqueMouseIds = combined_mice_study_results.loc[(combined_mice_study_results[\"Drug Regimen\"] == \"Capomulin\")][\"Mouse ID\"].unique()\n",
    "\n",
    "# Get rows for first mouse ID retruned for drug \"Capomulin\"\n",
    "Filters_Drug_df = combined_mice_study_results.loc[(combined_mice_study_results[\"Drug Regimen\"] == \"Capomulin\") & (combined_mice_study_results[\"Mouse ID\"] == Capomulin_uniqueMouseIds[0])]\n",
    "\n",
    "Filters_Drug_df = Filters_Drug_df[[\"Drug Regimen\", \"Mouse ID\", \"Timepoint\", \"Tumor Volume (mm3)\"]]\n",
    "x_axis_data = np.arange(0,max(Filters_Drug_df[\"Timepoint\"]) + 5,5)\n",
    "points = Filters_Drug_df[\"Tumor Volume (mm3)\"]\n",
    "\n",
    "Filters_Drug_df\n"
   ]
  },
  {
   "cell_type": "code",
   "execution_count": 28,
   "metadata": {},
   "outputs": [
    {
     "data": {
      "image/png": "[encoded data removed]",
      "text/plain": [
       "<Figure size 1080x720 with 1 Axes>"
      ]
     },
     "metadata": {
      "needs_background": "light"
     },
     "output_type": "display_data"
    }
   ],
   "source": [
    "# Generate a line plot of time point versus tumor volume for a mouse treated with Capomulin\n",
    "\n",
    "plt.plot(x_axis_data, points,marker=\"+\",color=\"blue\", linewidth=1, label='Capomulin Drug Regimen')\n",
    "plt.xlabel('Timepoint')\n",
    "plt.ylabel('Tumor Volume')\n",
    "plt.title(\"Tumor Volume changes\")\n",
    "plt.legend()\n",
    "plt.xlim(0,max(Filters_Drug_df[\"Timepoint\"]))\n",
    "plt.ylim(min(Filters_Drug_df[\"Tumor Volume (mm3)\"]),max(Filters_Drug_df[\"Tumor Volume (mm3)\"]))\n",
    "fig = plt.gcf()\n",
    "fig.set_size_inches(15, 10)\n",
    "plt.show()"
   ]
  },
  {
   "cell_type": "code",
   "execution_count": 29,
   "metadata": {},
   "outputs": [],
   "source": [
    "# get all rows for drug \"Capomulin\"\n",
    "\n",
    "Filtered_drug_allData = combined_mice_study_results.loc[(combined_mice_study_results[\"Drug Regimen\"] == \"Capomulin\")]\n",
    "Filtered_drug_allData = Filtered_drug_allData[[\"Mouse ID\", \"Weight (g)\", \"Tumor Volume (mm3)\"]]\n",
    "Filtered_drug_allData_grouped= Filtered_drug_allData.groupby(\"Mouse ID\")\n",
    "Mouse_weight_data = Filtered_drug_allData_grouped[\"Weight (g)\"].max() # get mouse weight for each mice used to study drug \"Capomulin\"\n",
    "Avg_Tumor_data = Filtered_drug_allData_grouped[\"Tumor Volume (mm3)\"].mean() # get average tumor volume for each mice\n"
   ]
  },
  {
   "cell_type": "code",
   "execution_count": 30,
   "metadata": {},
   "outputs": [
    {
     "data": {
      "image/png": "[encoded data removed]",
      "text/plain": [
       "<Figure size 1080x720 with 1 Axes>"
      ]
     },
     "metadata": {
      "needs_background": "light"
     },
     "output_type": "display_data"
    }
   ],
   "source": [
    "# Generate a scatter plot of mouse weight versus average tumor volume for the Capomulin regimen\n",
    "plt.scatter(Mouse_weight_data, Avg_Tumor_data, marker=\"o\", facecolors=\"red\", edgecolors=\"black\")\n",
    "\n",
    "plt.ylim(min(Avg_Tumor_data) - 1,max(Avg_Tumor_data) + 1)\n",
    "plt.xlim(min(Mouse_weight_data) -1,max(Mouse_weight_data) + 1)\n",
    "plt.title(\"Mouse Weight vs Average Tumor Volume\")\n",
    "plt.xlabel(\"Mouse Weight\")\n",
    "plt.ylabel(\"Average Tumor Volume\")\n",
    "fig = plt.gcf()\n",
    "fig.set_size_inches(15, 10)\n",
    "\n",
    "\n"
   ]
  },
  {
   "cell_type": "markdown",
   "metadata": {},
   "source": [
    "## Correlation and Regression"
   ]
  },
  {
   "cell_type": "code",
   "execution_count": 31,
   "metadata": {},
   "outputs": [
    {
     "name": "stdout",
     "output_type": "stream",
     "text": [
      "The correlation coefficient between mouse weight and average tumor volume is 0.84\n"
     ]
    }
   ],
   "source": [
    "# Calculate the correlation coefficient for mouse weight and average tumor volume for the Capomulin regimen\n",
    "print(f\"The correlation coefficient between mouse weight and average tumor volume is {round(st.pearsonr(Mouse_weight_data,Avg_Tumor_data)[0],2)}\")"
   ]
  },
  {
   "cell_type": "code",
   "execution_count": 32,
   "metadata": {},
   "outputs": [
    {
     "data": {
      "image/png": "[encoded data removed]",
      "text/plain": [
       "<Figure size 1080x720 with 1 Axes>"
      ]
     },
     "metadata": {
      "needs_background": "light"
     },
     "output_type": "display_data"
    }
   ],
   "source": [
    "# Add the linear regression equation and line to plot\n",
    "#  Calculate and linear regression model for mouse weight and average tumor volume for the Capomulin regimen \n",
    "\n",
    "x_values = Mouse_weight_data\n",
    "y_values = Avg_Tumor_data\n",
    "(slope, intercept, rvalue, pvalue, stderr) = st.linregress(x_values, y_values)\n",
    "regress_values = x_values * slope + intercept\n",
    "line_eq = \"y = \" + str(round(slope,2)) + \"x + \" + str(round(intercept,2))\n",
    "plt.scatter(x_values, y_values, marker=\"o\", facecolors=\"red\", edgecolors=\"black\")\n",
    "fig = plt.gcf()\n",
    "plt.ylim(min(Avg_Tumor_data) - 1,max(Avg_Tumor_data) + 1)\n",
    "plt.xlim(min(Mouse_weight_data) - 1,max(Mouse_weight_data) + 1)\n",
    "plt.title(\"Mouse Weight vs Average Tumor Volume\")\n",
    "plt.plot(x_values,regress_values,\"r-\")\n",
    "plt.annotate(line_eq,(18,34),fontsize=15,color=\"red\")\n",
    "plt.ylabel('Mouse Weight')\n",
    "plt.xlabel('Average Tumor Weight')\n",
    "fig.set_size_inches(15, 10)\n",
    "plt.show()\n"
   ]
  },
  {
   "cell_type": "code",
   "execution_count": 33,
   "metadata": {},
   "outputs": [
    {
     "data": {
      "image/png": "[encoded data removed]",
      "text/plain": [
       "<Figure size 1080x720 with 1 Axes>"
      ]
     },
     "metadata": {
      "needs_background": "light"
     },
     "output_type": "display_data"
    }
   ],
   "source": [
    "# Generate a scatter plot of mouse weight versus average tumor volume for the Capomulin regimen using pandas\n",
    "Filtered_drug_allData_grouped1 = Filtered_drug_allData_grouped\n",
    "Filtered_drug_allData_grouped1 = Filtered_drug_allData_grouped1.agg(\"mean\")\n",
    "Filtered_drug_allData_grouped1.plot(kind=\"scatter\", x=\"Weight (g)\", y=\"Tumor Volume (mm3)\",  figsize=(15,10),\n",
    "                                    marker=\"o\", facecolors=\"red\", edgecolors=\"black\")\n",
    "\n",
    "plt.ylim(min(Avg_Tumor_data) - 1,max(Avg_Tumor_data) + 1)\n",
    "plt.xlim(min(Mouse_weight_data) -1,max(Mouse_weight_data) + 1)\n",
    "plt.title(\"Mouse Weight vs Average Tumor Volume\")\n",
    "plt.xlabel(\"Mouse Weight\")\n",
    "plt.ylabel(\"Average Tumor Volume\")\n",
    "plt.show()\n"
   ]
  },
  {
   "cell_type": "code",
   "execution_count": null,
   "metadata": {},
   "outputs": [],
   "source": []
  }
 ],
 "metadata": {
  "anaconda-cloud": {},
  "kernelspec": {
   "display_name": "Python [conda env:PythonData] *",
   "language": "python",
   "name": "conda-env-PythonData-py"
  },
  "language_info": {
   "codemirror_mode": {
    "name": "ipython",
    "version": 3
   },
   "file_extension": ".py",
   "mimetype": "text/x-python",
   "name": "python",
   "nbconvert_exporter": "python",
   "pygments_lexer": "ipython3",
   "version": "3.8.3"
  }
 },
 "nbformat": 4,
 "nbformat_minor": 2
}
